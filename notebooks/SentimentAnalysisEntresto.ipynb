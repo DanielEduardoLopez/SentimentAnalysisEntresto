{
 "cells": [
  {
   "cell_type": "markdown",
   "metadata": {},
   "source": [
    "# **Sentiment Analysis for Entresto**\n",
    "____"
   ]
  },
  {
   "cell_type": "markdown",
   "metadata": {},
   "source": [
    "Author: **Daniel Eduardo López**\n",
    "\n",
    "<font size=\"-1\"><a href=\"https://www.linkedin.com/in/daniel-eduardo-lopez\">LinkedIn</a> | <a href=\"https://github.com/DanielEduardoLopez\">GitHub </a></font>\n",
    "\n",
    "**21 Dec 2024**"
   ]
  },
  {
   "cell_type": "markdown",
   "metadata": {},
   "source": [
    "div id=\"-post-rtjson-content\""
   ]
  }
 ],
 "metadata": {
  "kernelspec": {
   "display_name": ".venv",
   "language": "python",
   "name": "python3"
  },
  "language_info": {
   "name": "python",
   "version": "3.8.11"
  }
 },
 "nbformat": 4,
 "nbformat_minor": 2
}
